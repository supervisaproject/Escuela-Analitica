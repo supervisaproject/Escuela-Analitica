{
 "cells": [
  {
   "cell_type": "markdown",
   "metadata": {},
   "source": [
    "# Homework 1"
   ]
  },
  {
   "cell_type": "markdown",
   "metadata": {},
   "source": [
    "Para realizar este ejercicio es necesario usar la plantilla \"Homework 1\". Realiza las siguientes tareas:\n",
    "\n",
    "* Conectate a la BBDD del archivo \"chinook.db\"\n",
    "* Realiza una consulta en la BBDD, en la tabla \"customers\" extrae los registros cuyo país sea Canada y ordenados por el apellido (LastName) en orden alfabético. Consulta sólo las siguientes columnas: CustomerId, FistName, LasName y Email en este orden.\n",
    "\n",
    "\n",
    "Por último guarda el DataFrame resultante con el nombre  \"homework_1_final.csv\" y lanza el código de comprobación. Copia el resultado como respuesta."
   ]
  },
  {
   "source": [
    "To carry out this exercise it is necessary to use the \"Homework 1\" template. Perform the following tasks:\n",
    "\n",
    "* Connect to the database of the file \"chinook.db\"\n",
    "* Make a query in the DB, in the table \"customers\" extract the records whose country is Canada and ordered by the surname (LastName) in alphabetical order. Show only the following columns: CustomerId, FistName, LasName, and Email in this order.\n",
    "\n",
    "\n",
    "Finally save the resulting DataFrame with the name \"homework_1_final.csv\" and launch the verification code. Copy the result as an answer."
   ],
   "cell_type": "markdown",
   "metadata": {}
  },
  {
   "cell_type": "markdown",
   "metadata": {},
   "source": [
    "## 1 Instala las librerías "
   ]
  },
  {
   "cell_type": "markdown",
   "metadata": {},
   "source": [
    "## 2 Introduce aqui tus celdas de código"
   ]
  },
  {
   "cell_type": "markdown",
   "metadata": {},
   "source": [
    "## 3 Código de comprobación <span style=\"color:red\"> ¡¡¡no tocar!!! </span>."
   ]
  },
  {
   "cell_type": "markdown",
   "metadata": {},
   "source": [
    "Código de comprobación"
   ]
  },
  {
   "cell_type": "code",
   "execution_count": 14,
   "metadata": {},
   "outputs": [],
   "source": [
    "import hashlib"
   ]
  },
  {
   "cell_type": "code",
   "execution_count": 16,
   "metadata": {},
   "outputs": [],
   "source": [
    " hasher = hashlib.md5()\n",
    "\n",
    "with open('homework_1_final.csv', 'rb') as afile:\n",
    "\n",
    "    buf = afile.read()\n",
    "\n",
    "    hasher.update(buf)\n",
    "\n",
    "print(\"Pegar este resultado en el cuadrado de la respuesta: \" + hasher.hexdigest())"
   ]
  },
  {
   "cell_type": "code",
   "execution_count": null,
   "metadata": {},
   "outputs": [],
   "source": []
  }
 ],
 "metadata": {
  "kernelspec": {
   "display_name": "Python 3",
   "language": "python",
   "name": "python3"
  },
  "language_info": {
   "codemirror_mode": {
    "name": "ipython",
    "version": 3
   },
   "file_extension": ".py",
   "mimetype": "text/x-python",
   "name": "python",
   "nbconvert_exporter": "python",
   "pygments_lexer": "ipython3",
   "version": "3.7.6"
  }
 },
 "nbformat": 4,
 "nbformat_minor": 2
}