{
 "cells": [
  {
   "cell_type": "markdown",
   "metadata": {},
   "source": [
    "# Homework 2"
   ]
  },
  {
   "cell_type": "markdown",
   "metadata": {},
   "source": [
    "Para realizar este ejercicio es necesario usar la plantilla \"Homework 2\". Realiza las siguientes tareas:\n",
    "\n",
    "- Conectate a la BBDD del archivo \"chinook.db\"\n",
    "- Realiza una consulta en la BBDD, que muestre la siguiente información de las 10 primeras facturas, ordenadas por \"InvoceId\" en este orden:  \"InvoceId\", \"InvoceDate\", \"FirstName\" y \"LastName\" \n",
    "\n",
    "Por último guarda el DataFrame resultante con el nombre  \"homework_2_final.csv\" y lanza el código de comprobación. Copia el resultado como respuesta."
   ]
  },
  {
   "source": [
    "To perform this exercise it is necessary to use the \"Homework 2\" template. Perform the following tasks:\n",
    "\n",
    "- Connect to the database of the file \"chinook.db\"\n",
    "- Make a query in the DB, which shows the following information of the first 10 invoices, ordered by \"InvoceId\" in this order: \"InvoceId\", \"InvoceDate\", \"FirstName\" and \"LastName\"\n",
    "\n",
    "Finally save the resulting DataFrame with the name \"homework_2_final.csv\" and launch the verification code. Copy the result as an answer."
   ],
   "cell_type": "markdown",
   "metadata": {}
  },
  {
   "cell_type": "markdown",
   "metadata": {},
   "source": [
    "## 1 Instala las librerías "
   ]
  },
  {
   "cell_type": "markdown",
   "metadata": {},
   "source": [
    "## 2 Introduce aqui tus celdas de código"
   ]
  },
  {
   "cell_type": "markdown",
   "metadata": {},
   "source": [
    "## 3 Código de comprobación <span style=\"color:red\"> ¡¡¡no tocar!!! </span>."
   ]
  },
  {
   "cell_type": "markdown",
   "metadata": {},
   "source": [
    "Código de comprobación"
   ]
  },
  {
   "cell_type": "code",
   "execution_count": 17,
   "metadata": {},
   "outputs": [],
   "source": [
    "import hashlib"
   ]
  },
  {
   "cell_type": "code",
   "execution_count": 21,
   "metadata": {},
   "outputs": [],
   "source": [
    " hasher = hashlib.md5()\n",
    "\n",
    "with open('homework_2_final.csv', 'rb') as afile:\n",
    "\n",
    "    buf = afile.read()\n",
    "\n",
    "    hasher.update(buf)\n",
    "print(\"Pegar este resultado en el cuadrado de la respuesta: \" + hasher.hexdigest())"
   ]
  }
 ],
 "metadata": {
  "kernelspec": {
   "display_name": "Python 3",
   "language": "python",
   "name": "python3"
  },
  "language_info": {
   "codemirror_mode": {
    "name": "ipython",
    "version": 3
   },
   "file_extension": ".py",
   "mimetype": "text/x-python",
   "name": "python",
   "nbconvert_exporter": "python",
   "pygments_lexer": "ipython3",
   "version": "3.7.6"
  }
 },
 "nbformat": 4,
 "nbformat_minor": 2
}