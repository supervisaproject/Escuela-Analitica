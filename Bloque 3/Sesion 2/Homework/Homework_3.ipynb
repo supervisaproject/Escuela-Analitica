{
 "cells": [
  {
   "cell_type": "markdown",
   "metadata": {},
   "source": [
    "# Homework 3"
   ]
  },
  {
   "cell_type": "markdown",
   "metadata": {},
   "source": [
    "Para realizar este ejercicio es necesario usar la plantilla \"Homework 3\". Realiza las siguientes tareas:\n",
    "\n",
    "- Conectate a la BBDD del archivo \"chinook.db\"\n",
    "- (Consulta 1) Realiza una consulta en la BBDD, que muestre toda la tabla \"invoices\" y asigna el resultado a una variabel de tipo DataFrame llamada \"invoices_df\"\n",
    "- (Consulta 2)  Realiza una consulta en la BBDD, que muestre toda la tabla \"invoice_items\" y asigna el resultado a una variable de tipo DataFrame llamada \"invoice_items_df\"\n",
    "- (Consulta 3) Usando PandasSQL realiza una consulta sobre los dos DataFrame generados que muestren  los siguientes campos de  todas las facturas  BillingAdrdress, BillingCity, TrackId y UnitPrice, por este orden. No queremos mostrar datos que no estén completos. \n",
    "\n",
    "Por último guarda el DataFrame resultante con el nombre  \"homework_3_final.csv\" y lanza el código de comprobación. Copia el resultado como respuesta."
   ]
  },
  {
   "source": [
    "To perform this exercise it is necessary to use the \"Homework 3\" template. Perform the following tasks:\n",
    "\n",
    "- Connect to the database of the file \"chinook.db\"\n",
    "- (Query 1) Make a query in the DB, which shows the entire table \"invoices\" and assigns the result to a DataFrame type variable called \"invoices_df\"\n",
    "- (Query 2) Make a query in the DB, which shows the entire table \"invoice_items\" and assigns the result to a variable of type DataFrame called \"invoice_items_df\"\n",
    "- (Query 3) Using PandasSQL, performs a query on the two generated DataFrames that show the following fields of all the invoices BillingAdrdress, BillingCity, TrackId and UnitPrice, in this order. We do not want to show data that is not complete. Finally save the resulting DataFrame with the name \"homework_3_final.csv\" and launch the verification code. Copy the result as an answer."
   ],
   "cell_type": "markdown",
   "metadata": {}
  },
  {
   "cell_type": "markdown",
   "metadata": {},
   "source": [
    "## 1 Instala las librerías "
   ]
  },
  {
   "cell_type": "markdown",
   "metadata": {},
   "source": [
    "## 2 Introduce aqui tus celdas de código"
   ]
  },
  {
   "cell_type": "markdown",
   "metadata": {},
   "source": [
    "## 3 Código de comprobación <span style=\"color:red\"> ¡¡¡no tocar!!! </span>."
   ]
  },
  {
   "cell_type": "markdown",
   "metadata": {},
   "source": [
    "Código de comprobación"
   ]
  },
  {
   "cell_type": "code",
   "execution_count": 46,
   "metadata": {},
   "outputs": [],
   "source": [
    "import hashlib"
   ]
  },
  {
   "cell_type": "code",
   "execution_count": 48,
   "metadata": {},
   "outputs": [],
   "source": [
    " hasher = hashlib.md5()\n",
    "\n",
    "with open('homework_3_final.csv', 'rb') as afile:\n",
    "\n",
    "    buf = afile.read()\n",
    "\n",
    "    hasher.update(buf)\n",
    "print(\"Pegar este resultado en el cuadrado de la respuesta: \" + hasher.hexdigest())"
   ]
  }
 ],
 "metadata": {
  "kernelspec": {
   "display_name": "Python 3",
   "language": "python",
   "name": "python3"
  },
  "language_info": {
   "codemirror_mode": {
    "name": "ipython",
    "version": 3
   },
   "file_extension": ".py",
   "mimetype": "text/x-python",
   "name": "python",
   "nbconvert_exporter": "python",
   "pygments_lexer": "ipython3",
   "version": "3.7.6"
  }
 },
 "nbformat": 4,
 "nbformat_minor": 2
}